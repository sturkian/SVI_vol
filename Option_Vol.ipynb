{
 "cells": [
  {
   "cell_type": "code",
   "execution_count": 96,
   "id": "ae639195",
   "metadata": {},
   "outputs": [],
   "source": [
    "import numpy as np\n",
    "import pandas as pd\n",
    "from math import log, sqrt, pi, exp\n",
    "from scipy.stats import norm\n",
    "from datetime import datetime, date\n",
    "import matplotlib.pyplot as plt \n",
    "import pandas_datareader.data as web\n",
    "from pandas import DataFrame"
   ]
  },
  {
   "cell_type": "code",
   "execution_count": 137,
   "id": "7ab8f6fd",
   "metadata": {},
   "outputs": [],
   "source": [
    "#Observed from the data file\n",
    "S0 = 2707.88\n",
    "t0 = '02-08-2019'\n",
    "expiry = '12-20-2019'\n",
    "t = (datetime.strptime(expiry, \"%m-%d-%Y\") - datetime.strptime(t0, \"%m-%d-%Y\")).days / 365\n"
   ]
  },
  {
   "cell_type": "code",
   "execution_count": 98,
   "id": "26a7ad8a",
   "metadata": {},
   "outputs": [],
   "source": [
    "import pandas as pd\n",
    "\n",
    "df = pd.read_table('quotedata.dat',\n",
    "                  skiprows=2,\n",
    "                  sep=',',\n",
    "                  header=0)"
   ]
  },
  {
   "cell_type": "code",
   "execution_count": 99,
   "id": "fc404434",
   "metadata": {},
   "outputs": [
    {
     "data": {
      "text/html": [
       "<div>\n",
       "<style scoped>\n",
       "    .dataframe tbody tr th:only-of-type {\n",
       "        vertical-align: middle;\n",
       "    }\n",
       "\n",
       "    .dataframe tbody tr th {\n",
       "        vertical-align: top;\n",
       "    }\n",
       "\n",
       "    .dataframe thead th {\n",
       "        text-align: right;\n",
       "    }\n",
       "</style>\n",
       "<table border=\"1\" class=\"dataframe\">\n",
       "  <thead>\n",
       "    <tr style=\"text-align: right;\">\n",
       "      <th></th>\n",
       "      <th>Expiration Date</th>\n",
       "      <th>Calls</th>\n",
       "      <th>CBid</th>\n",
       "      <th>CAsk</th>\n",
       "      <th>Strike</th>\n",
       "      <th>Puts</th>\n",
       "      <th>PBid</th>\n",
       "      <th>PAsk</th>\n",
       "    </tr>\n",
       "  </thead>\n",
       "  <tbody>\n",
       "    <tr>\n",
       "      <th>0</th>\n",
       "      <td>12/20/2019</td>\n",
       "      <td>SPX191220C01750000</td>\n",
       "      <td>955.0</td>\n",
       "      <td>958.7</td>\n",
       "      <td>1750.0</td>\n",
       "      <td>SPX191220P01750000</td>\n",
       "      <td>8.9</td>\n",
       "      <td>9.5</td>\n",
       "    </tr>\n",
       "    <tr>\n",
       "      <th>1</th>\n",
       "      <td>12/20/2019</td>\n",
       "      <td>SPX191220C01775000</td>\n",
       "      <td>931.4</td>\n",
       "      <td>935.1</td>\n",
       "      <td>1775.0</td>\n",
       "      <td>SPX191220P01775000</td>\n",
       "      <td>9.7</td>\n",
       "      <td>10.3</td>\n",
       "    </tr>\n",
       "    <tr>\n",
       "      <th>2</th>\n",
       "      <td>12/20/2019</td>\n",
       "      <td>SPX191220C01800000</td>\n",
       "      <td>907.9</td>\n",
       "      <td>911.5</td>\n",
       "      <td>1800.0</td>\n",
       "      <td>SPX191220P01800000</td>\n",
       "      <td>10.6</td>\n",
       "      <td>11.2</td>\n",
       "    </tr>\n",
       "    <tr>\n",
       "      <th>3</th>\n",
       "      <td>12/20/2019</td>\n",
       "      <td>SPX191220C01825000</td>\n",
       "      <td>884.5</td>\n",
       "      <td>888.1</td>\n",
       "      <td>1825.0</td>\n",
       "      <td>SPX191220P01825000</td>\n",
       "      <td>11.5</td>\n",
       "      <td>12.2</td>\n",
       "    </tr>\n",
       "    <tr>\n",
       "      <th>4</th>\n",
       "      <td>12/20/2019</td>\n",
       "      <td>SPX191220C01850000</td>\n",
       "      <td>861.1</td>\n",
       "      <td>864.7</td>\n",
       "      <td>1850.0</td>\n",
       "      <td>SPX191220P01850000</td>\n",
       "      <td>12.5</td>\n",
       "      <td>13.2</td>\n",
       "    </tr>\n",
       "    <tr>\n",
       "      <th>...</th>\n",
       "      <td>...</td>\n",
       "      <td>...</td>\n",
       "      <td>...</td>\n",
       "      <td>...</td>\n",
       "      <td>...</td>\n",
       "      <td>...</td>\n",
       "      <td>...</td>\n",
       "      <td>...</td>\n",
       "    </tr>\n",
       "    <tr>\n",
       "      <th>61</th>\n",
       "      <td>12/20/2019</td>\n",
       "      <td>SPX191220C03275000</td>\n",
       "      <td>5.7</td>\n",
       "      <td>6.2</td>\n",
       "      <td>3275.0</td>\n",
       "      <td>SPX191220P03275000</td>\n",
       "      <td>546.3</td>\n",
       "      <td>550.0</td>\n",
       "    </tr>\n",
       "    <tr>\n",
       "      <th>62</th>\n",
       "      <td>12/20/2019</td>\n",
       "      <td>SPX191220C03300000</td>\n",
       "      <td>5.1</td>\n",
       "      <td>5.5</td>\n",
       "      <td>3300.0</td>\n",
       "      <td>SPX191220P03300000</td>\n",
       "      <td>570.0</td>\n",
       "      <td>573.7</td>\n",
       "    </tr>\n",
       "    <tr>\n",
       "      <th>63</th>\n",
       "      <td>12/20/2019</td>\n",
       "      <td>SPX191220C03350000</td>\n",
       "      <td>3.9</td>\n",
       "      <td>4.3</td>\n",
       "      <td>3350.0</td>\n",
       "      <td>SPX191220P03350000</td>\n",
       "      <td>617.6</td>\n",
       "      <td>621.4</td>\n",
       "    </tr>\n",
       "    <tr>\n",
       "      <th>64</th>\n",
       "      <td>12/20/2019</td>\n",
       "      <td>SPX191220C03400000</td>\n",
       "      <td>3.0</td>\n",
       "      <td>3.5</td>\n",
       "      <td>3400.0</td>\n",
       "      <td>SPX191220P03400000</td>\n",
       "      <td>665.7</td>\n",
       "      <td>669.4</td>\n",
       "    </tr>\n",
       "    <tr>\n",
       "      <th>65</th>\n",
       "      <td>12/20/2019</td>\n",
       "      <td>SPX191220C03500000</td>\n",
       "      <td>2.0</td>\n",
       "      <td>2.3</td>\n",
       "      <td>3500.0</td>\n",
       "      <td>SPX191220P03500000</td>\n",
       "      <td>762.3</td>\n",
       "      <td>766.1</td>\n",
       "    </tr>\n",
       "  </tbody>\n",
       "</table>\n",
       "<p>66 rows × 8 columns</p>\n",
       "</div>"
      ],
      "text/plain": [
       "   Expiration Date               Calls   CBid   CAsk  Strike  \\\n",
       "0       12/20/2019  SPX191220C01750000  955.0  958.7  1750.0   \n",
       "1       12/20/2019  SPX191220C01775000  931.4  935.1  1775.0   \n",
       "2       12/20/2019  SPX191220C01800000  907.9  911.5  1800.0   \n",
       "3       12/20/2019  SPX191220C01825000  884.5  888.1  1825.0   \n",
       "4       12/20/2019  SPX191220C01850000  861.1  864.7  1850.0   \n",
       "..             ...                 ...    ...    ...     ...   \n",
       "61      12/20/2019  SPX191220C03275000    5.7    6.2  3275.0   \n",
       "62      12/20/2019  SPX191220C03300000    5.1    5.5  3300.0   \n",
       "63      12/20/2019  SPX191220C03350000    3.9    4.3  3350.0   \n",
       "64      12/20/2019  SPX191220C03400000    3.0    3.5  3400.0   \n",
       "65      12/20/2019  SPX191220C03500000    2.0    2.3  3500.0   \n",
       "\n",
       "                  Puts   PBid   PAsk  \n",
       "0   SPX191220P01750000    8.9    9.5  \n",
       "1   SPX191220P01775000    9.7   10.3  \n",
       "2   SPX191220P01800000   10.6   11.2  \n",
       "3   SPX191220P01825000   11.5   12.2  \n",
       "4   SPX191220P01850000   12.5   13.2  \n",
       "..                 ...    ...    ...  \n",
       "61  SPX191220P03275000  546.3  550.0  \n",
       "62  SPX191220P03300000  570.0  573.7  \n",
       "63  SPX191220P03350000  617.6  621.4  \n",
       "64  SPX191220P03400000  665.7  669.4  \n",
       "65  SPX191220P03500000  762.3  766.1  \n",
       "\n",
       "[66 rows x 8 columns]"
      ]
     },
     "execution_count": 99,
     "metadata": {},
     "output_type": "execute_result"
    }
   ],
   "source": [
    "df"
   ]
  },
  {
   "cell_type": "code",
   "execution_count": 100,
   "id": "20f4631a",
   "metadata": {},
   "outputs": [],
   "source": [
    "r = 0.027\n",
    "df[\"PMid\"] = df[['PBid', 'PAsk']].mean(axis=1)\n",
    "df[\"CMid\"] = df[['CBid', 'CAsk']].mean(axis=1)\n",
    "df[\"F\"] = df[\"CMid\"]-df[\"PMid\"]+df[\"Strike\"]\n",
    "#q = 0.009\n",
    "\n",
    "df[\"q\"] = np.log((df[\"CMid\"]-df[\"PMid\"]+df[\"Strike\"]*exp(-r*t))/S0)/-t\n",
    "#df[\"r0\"] = (-np.log(S0+df[\"PMid\"]-df[\"CMid\"])/df[\"Strike\"])/t\n",
    "#df[\"r1\"] = (-np.log(S0+df[\"PMid\"]-df[\"CMid\"])/df[\"Strike\"]+51.7)/t\n",
    "\n",
    "q = 0.0218\n",
    "# initiate initial auess for sigma\n",
    "df[\"Csigma_i\"] = sqrt(2*pi/t)*df[\"CMid\"]/S0\n",
    "df[\"Psigma_i\"] = 1/(sqrt(2*pi/t)*df[\"PMid\"]/S0)\n",
    "df[\"ln(K/S)\"] = np.log(df[\"Strike\"]/S0)\n",
    "\n",
    "df[\"d1\"] = (np.log(S0 / df[\"Strike\"]) + (r + 0.5 * df[\"Csigma_i\"] ** 2) * t) / (df[\"Csigma_i\"] * np.sqrt(t))\n",
    "    \n",
    "df[\"vega\"] = 1 / np.sqrt(2 * np.pi) * S0 * np.exp(-q * t) * np.exp(-(df[\"d1\"] ** 2) * 0.5) * np.sqrt(t)\n",
    "\n",
    "F = S0*exp(r-q)*t\n",
    "\n",
    "C = df[\"CMid\"]\n",
    "P = df[\"PMid\"]\n",
    "\n",
    "K = df[\"Strike\"]\n",
    "\n",
    "df[\"Csq\"] = (sqrt(2*pi/t)*df[\"CMid\"]/S0)*(sqrt(2*pi/t)*df[\"CMid\"]/S0)"
   ]
  },
  {
   "cell_type": "code",
   "execution_count": 145,
   "id": "7ad63598",
   "metadata": {},
   "outputs": [
    {
     "data": {
      "text/plain": [
       "5.199999999999989"
      ]
     },
     "execution_count": 145,
     "metadata": {},
     "output_type": "execute_result"
    }
   ],
   "source": []
  },
  {
   "cell_type": "code",
   "execution_count": 22,
   "id": "3c93fe1f",
   "metadata": {},
   "outputs": [],
   "source": [
    "#R = r(S0,df[\"PMid\"],df[\"CMid\"],df[\"Strike\"],t)"
   ]
  },
  {
   "cell_type": "code",
   "execution_count": 23,
   "id": "2207ca71",
   "metadata": {},
   "outputs": [],
   "source": [
    "#Define the SVI function\n",
    "def SVI(x, a, b,p,m,s):\n",
    "    return a+b*(p*(x-m)+sqrt((x-m)**2+s**2))"
   ]
  },
  {
   "cell_type": "code",
   "execution_count": 24,
   "id": "f668a908",
   "metadata": {},
   "outputs": [
    {
     "data": {
      "text/html": [
       "<div>\n",
       "<style scoped>\n",
       "    .dataframe tbody tr th:only-of-type {\n",
       "        vertical-align: middle;\n",
       "    }\n",
       "\n",
       "    .dataframe tbody tr th {\n",
       "        vertical-align: top;\n",
       "    }\n",
       "\n",
       "    .dataframe thead th {\n",
       "        text-align: right;\n",
       "    }\n",
       "</style>\n",
       "<table border=\"1\" class=\"dataframe\">\n",
       "  <thead>\n",
       "    <tr style=\"text-align: right;\">\n",
       "      <th></th>\n",
       "      <th>Expiration Date</th>\n",
       "      <th>Calls</th>\n",
       "      <th>CBid</th>\n",
       "      <th>CAsk</th>\n",
       "      <th>Strike</th>\n",
       "      <th>Puts</th>\n",
       "      <th>PBid</th>\n",
       "      <th>PAsk</th>\n",
       "      <th>PMid</th>\n",
       "      <th>CMid</th>\n",
       "      <th>...</th>\n",
       "      <th>Csq</th>\n",
       "      <th>CVol</th>\n",
       "      <th>PVol</th>\n",
       "      <th>MidVol</th>\n",
       "      <th>OTMCs</th>\n",
       "      <th>OTMPs</th>\n",
       "      <th>OTMVol</th>\n",
       "      <th>OTMWVol</th>\n",
       "      <th>OTMWCs</th>\n",
       "      <th>OTMWPs</th>\n",
       "    </tr>\n",
       "  </thead>\n",
       "  <tbody>\n",
       "    <tr>\n",
       "      <th>0</th>\n",
       "      <td>12/20/2019</td>\n",
       "      <td>SPX191220C01750000</td>\n",
       "      <td>955.0</td>\n",
       "      <td>958.7</td>\n",
       "      <td>1750.0</td>\n",
       "      <td>SPX191220P01750000</td>\n",
       "      <td>8.9</td>\n",
       "      <td>9.5</td>\n",
       "      <td>9.20</td>\n",
       "      <td>956.85</td>\n",
       "      <td>...</td>\n",
       "      <td>0.909057</td>\n",
       "      <td>NaN</td>\n",
       "      <td>NaN</td>\n",
       "      <td>NaN</td>\n",
       "      <td>NaN</td>\n",
       "      <td>NaN</td>\n",
       "      <td>NaN</td>\n",
       "      <td>NaN</td>\n",
       "      <td>4.455854</td>\n",
       "      <td>NaN</td>\n",
       "    </tr>\n",
       "    <tr>\n",
       "      <th>1</th>\n",
       "      <td>12/20/2019</td>\n",
       "      <td>SPX191220C01775000</td>\n",
       "      <td>931.4</td>\n",
       "      <td>935.1</td>\n",
       "      <td>1775.0</td>\n",
       "      <td>SPX191220P01775000</td>\n",
       "      <td>9.7</td>\n",
       "      <td>10.3</td>\n",
       "      <td>10.00</td>\n",
       "      <td>933.25</td>\n",
       "      <td>...</td>\n",
       "      <td>0.864767</td>\n",
       "      <td>NaN</td>\n",
       "      <td>NaN</td>\n",
       "      <td>NaN</td>\n",
       "      <td>NaN</td>\n",
       "      <td>NaN</td>\n",
       "      <td>NaN</td>\n",
       "      <td>NaN</td>\n",
       "      <td>4.455854</td>\n",
       "      <td>NaN</td>\n",
       "    </tr>\n",
       "    <tr>\n",
       "      <th>2</th>\n",
       "      <td>12/20/2019</td>\n",
       "      <td>SPX191220C01800000</td>\n",
       "      <td>907.9</td>\n",
       "      <td>911.5</td>\n",
       "      <td>1800.0</td>\n",
       "      <td>SPX191220P01800000</td>\n",
       "      <td>10.6</td>\n",
       "      <td>11.2</td>\n",
       "      <td>10.90</td>\n",
       "      <td>909.70</td>\n",
       "      <td>...</td>\n",
       "      <td>0.821674</td>\n",
       "      <td>NaN</td>\n",
       "      <td>NaN</td>\n",
       "      <td>NaN</td>\n",
       "      <td>NaN</td>\n",
       "      <td>NaN</td>\n",
       "      <td>NaN</td>\n",
       "      <td>NaN</td>\n",
       "      <td>4.455854</td>\n",
       "      <td>NaN</td>\n",
       "    </tr>\n",
       "    <tr>\n",
       "      <th>3</th>\n",
       "      <td>12/20/2019</td>\n",
       "      <td>SPX191220C01825000</td>\n",
       "      <td>884.5</td>\n",
       "      <td>888.1</td>\n",
       "      <td>1825.0</td>\n",
       "      <td>SPX191220P01825000</td>\n",
       "      <td>11.5</td>\n",
       "      <td>12.2</td>\n",
       "      <td>11.85</td>\n",
       "      <td>886.30</td>\n",
       "      <td>...</td>\n",
       "      <td>0.779947</td>\n",
       "      <td>NaN</td>\n",
       "      <td>NaN</td>\n",
       "      <td>NaN</td>\n",
       "      <td>NaN</td>\n",
       "      <td>NaN</td>\n",
       "      <td>NaN</td>\n",
       "      <td>NaN</td>\n",
       "      <td>4.455854</td>\n",
       "      <td>NaN</td>\n",
       "    </tr>\n",
       "    <tr>\n",
       "      <th>4</th>\n",
       "      <td>12/20/2019</td>\n",
       "      <td>SPX191220C01850000</td>\n",
       "      <td>861.1</td>\n",
       "      <td>864.7</td>\n",
       "      <td>1850.0</td>\n",
       "      <td>SPX191220P01850000</td>\n",
       "      <td>12.5</td>\n",
       "      <td>13.2</td>\n",
       "      <td>12.85</td>\n",
       "      <td>862.90</td>\n",
       "      <td>...</td>\n",
       "      <td>0.739306</td>\n",
       "      <td>NaN</td>\n",
       "      <td>NaN</td>\n",
       "      <td>NaN</td>\n",
       "      <td>NaN</td>\n",
       "      <td>NaN</td>\n",
       "      <td>NaN</td>\n",
       "      <td>NaN</td>\n",
       "      <td>4.455854</td>\n",
       "      <td>NaN</td>\n",
       "    </tr>\n",
       "    <tr>\n",
       "      <th>...</th>\n",
       "      <td>...</td>\n",
       "      <td>...</td>\n",
       "      <td>...</td>\n",
       "      <td>...</td>\n",
       "      <td>...</td>\n",
       "      <td>...</td>\n",
       "      <td>...</td>\n",
       "      <td>...</td>\n",
       "      <td>...</td>\n",
       "      <td>...</td>\n",
       "      <td>...</td>\n",
       "      <td>...</td>\n",
       "      <td>...</td>\n",
       "      <td>...</td>\n",
       "      <td>...</td>\n",
       "      <td>...</td>\n",
       "      <td>...</td>\n",
       "      <td>...</td>\n",
       "      <td>...</td>\n",
       "      <td>...</td>\n",
       "      <td>...</td>\n",
       "    </tr>\n",
       "    <tr>\n",
       "      <th>61</th>\n",
       "      <td>12/20/2019</td>\n",
       "      <td>SPX191220C03275000</td>\n",
       "      <td>5.7</td>\n",
       "      <td>6.2</td>\n",
       "      <td>3275.0</td>\n",
       "      <td>SPX191220P03275000</td>\n",
       "      <td>546.3</td>\n",
       "      <td>550.0</td>\n",
       "      <td>548.15</td>\n",
       "      <td>5.95</td>\n",
       "      <td>...</td>\n",
       "      <td>0.000035</td>\n",
       "      <td>4.455799</td>\n",
       "      <td>9.382936e-10</td>\n",
       "      <td>2.227900</td>\n",
       "      <td>4.455799</td>\n",
       "      <td>NaN</td>\n",
       "      <td>4.455799</td>\n",
       "      <td>4.455854</td>\n",
       "      <td>4.455854</td>\n",
       "      <td>NaN</td>\n",
       "    </tr>\n",
       "    <tr>\n",
       "      <th>62</th>\n",
       "      <td>12/20/2019</td>\n",
       "      <td>SPX191220C03300000</td>\n",
       "      <td>5.1</td>\n",
       "      <td>5.5</td>\n",
       "      <td>3300.0</td>\n",
       "      <td>SPX191220P03300000</td>\n",
       "      <td>570.0</td>\n",
       "      <td>573.7</td>\n",
       "      <td>571.85</td>\n",
       "      <td>5.30</td>\n",
       "      <td>...</td>\n",
       "      <td>0.000028</td>\n",
       "      <td>4.455787</td>\n",
       "      <td>9.382936e-10</td>\n",
       "      <td>2.227893</td>\n",
       "      <td>4.455787</td>\n",
       "      <td>NaN</td>\n",
       "      <td>4.455787</td>\n",
       "      <td>4.455854</td>\n",
       "      <td>4.455854</td>\n",
       "      <td>NaN</td>\n",
       "    </tr>\n",
       "    <tr>\n",
       "      <th>63</th>\n",
       "      <td>12/20/2019</td>\n",
       "      <td>SPX191220C03350000</td>\n",
       "      <td>3.9</td>\n",
       "      <td>4.3</td>\n",
       "      <td>3350.0</td>\n",
       "      <td>SPX191220P03350000</td>\n",
       "      <td>617.6</td>\n",
       "      <td>621.4</td>\n",
       "      <td>619.50</td>\n",
       "      <td>4.10</td>\n",
       "      <td>...</td>\n",
       "      <td>0.000017</td>\n",
       "      <td>4.455762</td>\n",
       "      <td>9.382936e-10</td>\n",
       "      <td>2.227881</td>\n",
       "      <td>4.455762</td>\n",
       "      <td>NaN</td>\n",
       "      <td>4.455762</td>\n",
       "      <td>4.455854</td>\n",
       "      <td>4.455854</td>\n",
       "      <td>NaN</td>\n",
       "    </tr>\n",
       "    <tr>\n",
       "      <th>64</th>\n",
       "      <td>12/20/2019</td>\n",
       "      <td>SPX191220C03400000</td>\n",
       "      <td>3.0</td>\n",
       "      <td>3.5</td>\n",
       "      <td>3400.0</td>\n",
       "      <td>SPX191220P03400000</td>\n",
       "      <td>665.7</td>\n",
       "      <td>669.4</td>\n",
       "      <td>667.55</td>\n",
       "      <td>3.25</td>\n",
       "      <td>...</td>\n",
       "      <td>0.000010</td>\n",
       "      <td>4.455738</td>\n",
       "      <td>9.382936e-10</td>\n",
       "      <td>2.227869</td>\n",
       "      <td>4.455738</td>\n",
       "      <td>NaN</td>\n",
       "      <td>4.455738</td>\n",
       "      <td>4.455854</td>\n",
       "      <td>4.455854</td>\n",
       "      <td>NaN</td>\n",
       "    </tr>\n",
       "    <tr>\n",
       "      <th>65</th>\n",
       "      <td>12/20/2019</td>\n",
       "      <td>SPX191220C03500000</td>\n",
       "      <td>2.0</td>\n",
       "      <td>2.3</td>\n",
       "      <td>3500.0</td>\n",
       "      <td>SPX191220P03500000</td>\n",
       "      <td>762.3</td>\n",
       "      <td>766.1</td>\n",
       "      <td>764.20</td>\n",
       "      <td>2.15</td>\n",
       "      <td>...</td>\n",
       "      <td>0.000005</td>\n",
       "      <td>4.455690</td>\n",
       "      <td>9.382936e-10</td>\n",
       "      <td>2.227845</td>\n",
       "      <td>4.455690</td>\n",
       "      <td>NaN</td>\n",
       "      <td>4.455690</td>\n",
       "      <td>4.455854</td>\n",
       "      <td>4.455854</td>\n",
       "      <td>NaN</td>\n",
       "    </tr>\n",
       "  </tbody>\n",
       "</table>\n",
       "<p>66 rows × 27 columns</p>\n",
       "</div>"
      ],
      "text/plain": [
       "   Expiration Date               Calls   CBid   CAsk  Strike  \\\n",
       "0       12/20/2019  SPX191220C01750000  955.0  958.7  1750.0   \n",
       "1       12/20/2019  SPX191220C01775000  931.4  935.1  1775.0   \n",
       "2       12/20/2019  SPX191220C01800000  907.9  911.5  1800.0   \n",
       "3       12/20/2019  SPX191220C01825000  884.5  888.1  1825.0   \n",
       "4       12/20/2019  SPX191220C01850000  861.1  864.7  1850.0   \n",
       "..             ...                 ...    ...    ...     ...   \n",
       "61      12/20/2019  SPX191220C03275000    5.7    6.2  3275.0   \n",
       "62      12/20/2019  SPX191220C03300000    5.1    5.5  3300.0   \n",
       "63      12/20/2019  SPX191220C03350000    3.9    4.3  3350.0   \n",
       "64      12/20/2019  SPX191220C03400000    3.0    3.5  3400.0   \n",
       "65      12/20/2019  SPX191220C03500000    2.0    2.3  3500.0   \n",
       "\n",
       "                  Puts   PBid   PAsk    PMid    CMid  ...       Csq      CVol  \\\n",
       "0   SPX191220P01750000    8.9    9.5    9.20  956.85  ...  0.909057       NaN   \n",
       "1   SPX191220P01775000    9.7   10.3   10.00  933.25  ...  0.864767       NaN   \n",
       "2   SPX191220P01800000   10.6   11.2   10.90  909.70  ...  0.821674       NaN   \n",
       "3   SPX191220P01825000   11.5   12.2   11.85  886.30  ...  0.779947       NaN   \n",
       "4   SPX191220P01850000   12.5   13.2   12.85  862.90  ...  0.739306       NaN   \n",
       "..                 ...    ...    ...     ...     ...  ...       ...       ...   \n",
       "61  SPX191220P03275000  546.3  550.0  548.15    5.95  ...  0.000035  4.455799   \n",
       "62  SPX191220P03300000  570.0  573.7  571.85    5.30  ...  0.000028  4.455787   \n",
       "63  SPX191220P03350000  617.6  621.4  619.50    4.10  ...  0.000017  4.455762   \n",
       "64  SPX191220P03400000  665.7  669.4  667.55    3.25  ...  0.000010  4.455738   \n",
       "65  SPX191220P03500000  762.3  766.1  764.20    2.15  ...  0.000005  4.455690   \n",
       "\n",
       "            PVol    MidVol     OTMCs  OTMPs    OTMVol   OTMWVol    OTMWCs  \\\n",
       "0            NaN       NaN       NaN    NaN       NaN       NaN  4.455854   \n",
       "1            NaN       NaN       NaN    NaN       NaN       NaN  4.455854   \n",
       "2            NaN       NaN       NaN    NaN       NaN       NaN  4.455854   \n",
       "3            NaN       NaN       NaN    NaN       NaN       NaN  4.455854   \n",
       "4            NaN       NaN       NaN    NaN       NaN       NaN  4.455854   \n",
       "..           ...       ...       ...    ...       ...       ...       ...   \n",
       "61  9.382936e-10  2.227900  4.455799    NaN  4.455799  4.455854  4.455854   \n",
       "62  9.382936e-10  2.227893  4.455787    NaN  4.455787  4.455854  4.455854   \n",
       "63  9.382936e-10  2.227881  4.455762    NaN  4.455762  4.455854  4.455854   \n",
       "64  9.382936e-10  2.227869  4.455738    NaN  4.455738  4.455854  4.455854   \n",
       "65  9.382936e-10  2.227845  4.455690    NaN  4.455690  4.455854  4.455854   \n",
       "\n",
       "    OTMWPs  \n",
       "0      NaN  \n",
       "1      NaN  \n",
       "2      NaN  \n",
       "3      NaN  \n",
       "4      NaN  \n",
       "..     ...  \n",
       "61     NaN  \n",
       "62     NaN  \n",
       "63     NaN  \n",
       "64     NaN  \n",
       "65     NaN  \n",
       "\n",
       "[66 rows x 27 columns]"
      ]
     },
     "execution_count": 24,
     "metadata": {},
     "output_type": "execute_result"
    }
   ],
   "source": [
    "df"
   ]
  },
  {
   "cell_type": "code",
   "execution_count": 25,
   "id": "23f40485",
   "metadata": {},
   "outputs": [],
   "source": [
    "import numpy as np\n",
    "import scipy.stats as si\n",
    "\n",
    "def newton_vol_call_div(S, T, C, K, r, q, sigma):\n",
    "\n",
    "        \n",
    "        d1 = (np.log(S / K) + (r - q + 0.5 * sigma ** 2) * T) / (sigma * np.sqrt(T))\n",
    "        d2 = (np.log(S / K) + (r - q - 0.5 * sigma ** 2) * T) / (sigma * np.sqrt(T))\n",
    "    \n",
    "        fx = S * np.exp(-q * T) * si.norm.cdf(d1, 0.0, 1.0) - K * np.exp(-r * T) * si.norm.cdf(d2, 0.0, 1.0) - C\n",
    "    \n",
    "        vega = (1 / np.sqrt(2 * np.pi)) * S * np.exp(-q * T) * np.sqrt(T) * np.exp((-si.norm.cdf(d1, 0.0, 1.0) ** 2) * 0.5)\n",
    "    \n",
    "        tolerance = 0.000001\n",
    "        x0 = sigma\n",
    "        xnew  = x0\n",
    "        xold = x0 - 1\n",
    "        while abs(xnew - xold) > tolerance:\n",
    "            xold = xnew\n",
    "            xnew = (xnew - fx - C) / vega\n",
    "        \n",
    "        return abs(xnew) "
   ]
  },
  {
   "cell_type": "code",
   "execution_count": 26,
   "id": "a65da05a",
   "metadata": {},
   "outputs": [],
   "source": [
    "#Works\n",
    "\n",
    "import numpy as np\n",
    "import scipy.stats as si\n",
    "\n",
    "def newton_vol_call(S, T, C, K, r, q, sigma):\n",
    "    output = np.zeros(len(C))\n",
    "    for num, (c, k) in enumerate(zip(C, K)):\n",
    "\n",
    "        \n",
    "        d1 = (np.log(S / k) + (r - q + 0.5 * sigma ** 2) * T) / (sigma * np.sqrt(T))\n",
    "        d2 = (np.log(S / k) + (r - q - 0.5 * sigma ** 2) * T) / (sigma * np.sqrt(T))\n",
    "    \n",
    "        fx = S * np.exp(-q * T) * si.norm.cdf(d1, 0.0, 1.0) - k * np.exp(-r * T) * si.norm.cdf(d2, 0.0, 1.0) - c\n",
    "    \n",
    "        vega = (1 / np.sqrt(2 * np.pi)) * S * np.exp(-q * T) * np.sqrt(T) * np.exp((-si.norm.cdf(d1, 0.0, 1.0) ** 2) * 0.5)\n",
    "    \n",
    "        tolerance = 0.000001\n",
    "        x0 = sigma\n",
    "        xnew  = x0\n",
    "        xold = x0 - 1\n",
    "        while abs(xnew - xold) > tolerance:\n",
    "            xold = xnew\n",
    "            xnew = (xnew - fx - c) / vega\n",
    "            \n",
    "            output[num] = abs(xnew)\n",
    "        \n",
    "    return output\n",
    "    "
   ]
  },
  {
   "cell_type": "code",
   "execution_count": 27,
   "id": "ade37667",
   "metadata": {},
   "outputs": [],
   "source": [
    "#Works\n",
    "def newton_vol_put(S, K, T, P, r, q, sigma):\n",
    "    output = np.zeros(len(P))\n",
    "    for num, (p, k) in enumerate(zip(P, K)):\n",
    "        \n",
    "        d1 = (np.log(S / k) + (r - q + 0.5 * sigma ** 2) * T) / (sigma * np.sqrt(T))\n",
    "        d2 = (np.log(S / k) + (r - q - 0.5 * sigma ** 2) * T) / (sigma * np.sqrt(T))\n",
    "    \n",
    "        fx = k * np.exp(-r * T) * si.norm.cdf(-d2, 0.0, 1.0) - S * np.exp(-q * T) * si.norm.cdf(-d1, 0.0, 1.0) -  p\n",
    "    \n",
    "        vega = (1 / np.sqrt(2 * np.pi)) * S * np.exp(-q * T) * np.sqrt(T) * np.exp((-si.norm.cdf(d1, 0.0, 1.0) ** 2) * 0.5)\n",
    "    \n",
    "        tolerance = 0.000001\n",
    "        x0 = sigma\n",
    "        xnew  = x0\n",
    "        xold = x0 - 1\n",
    "        \n",
    "        while abs(xnew - xold) > tolerance:\n",
    "            xold = xnew\n",
    "            xnew = (xnew - fx - p) / vega\n",
    "        \n",
    "            output[num] = abs(xnew)\n",
    "        \n",
    "    return output"
   ]
  },
  {
   "cell_type": "code",
   "execution_count": 28,
   "id": "2799a37b",
   "metadata": {},
   "outputs": [],
   "source": [
    "df[\"CVol\"] = newton_vol_call(S0, t, C, K, r, q, 0.2)\n",
    "df[\"PVol\"] = newton_vol_put(S0, K, t, P, r, q, 0.2)"
   ]
  },
  {
   "cell_type": "code",
   "execution_count": 30,
   "id": "d8460244",
   "metadata": {},
   "outputs": [],
   "source": [
    "df[\"CVol\"] = newton_vol_call(S0, t, C, K, r, q, 0.2)\n",
    "df[\"PVol\"] = newton_vol_put(S0, K, t, P, r, q, 0.2)\n",
    "df[\"MidVol\"] = df[['CVol', 'PVol']].mean(axis=1)\n",
    "df[\"OTMCs\"] = df[\"CVol\"][39:]\n",
    "df[\"OTMPs\"] = df[\"PVol\"][:38]\n",
    "df[\"OTMVol\"] = pd.concat([df[\"PVol\"][:38], df[\"CVol\"][39:]])\n",
    "df[\"OTMWVol\"] = np.average(df[\"PVol\"][:38], weights=np.linspace(38, 1, num=38))"
   ]
  },
  {
   "cell_type": "code",
   "execution_count": 31,
   "id": "c31bcdeb",
   "metadata": {},
   "outputs": [
    {
     "data": {
      "text/plain": [
       "(38,)"
      ]
     },
     "execution_count": 31,
     "metadata": {},
     "output_type": "execute_result"
    }
   ],
   "source": [
    "df[\"OTMCs\"][:38].shape"
   ]
  },
  {
   "cell_type": "code",
   "execution_count": 32,
   "id": "47f532ce",
   "metadata": {},
   "outputs": [],
   "source": [
    "df[\"OTMWVol\"] = np.average(df[\"CVol\"][39:], weights=np.linspace(1, 27, num=27))"
   ]
  },
  {
   "cell_type": "code",
   "execution_count": 33,
   "id": "25858290",
   "metadata": {},
   "outputs": [],
   "source": [
    "df[\"OTMWCs\"] = np.average(df[\"CVol\"][39:], weights=np.linspace(1, 27, num=27))\n",
    "df[\"OTMWPs\"] = np.average(df[\"PVol\"][:38], weights=np.linspace(38, 1, num=38))\n",
    "df[\"OTMWVol\"]= pd.concat([df[\"OTMWPs\"][:38], df[\"OTMWCs\"][39:]])"
   ]
  },
  {
   "cell_type": "code",
   "execution_count": null,
   "id": "acff6e79",
   "metadata": {},
   "outputs": [],
   "source": []
  },
  {
   "cell_type": "code",
   "execution_count": 41,
   "id": "f8bdccad",
   "metadata": {},
   "outputs": [
    {
     "data": {
      "image/png": "[encoded data removed]",
      "text/plain": [
       "<Figure size 576x432 with 1 Axes>"
      ]
     },
     "metadata": {
      "needs_background": "light"
     },
     "output_type": "display_data"
    }
   ],
   "source": [
    "CVol = df[\"CVol\"]\n",
    "PVol = df[\"PVol\"]\n",
    "MidVol = df[\"MidVol\"]\n",
    "OTMVol = df[\"OTMVol\"] \n",
    "OTMWVol = df[\"OTMWVol\"]\n",
    "fig, ax = plt.subplots(figsize=(8, 6))\n",
    "plt.plot(K, CVol, K, PVol, K, MidVol, K, OTMVol, K, OTMWVol)\n",
    "plt.xlabel('$log (K/S0)$')\n",
    "plt.ylabel('Imp Vol')\n",
    "plt.legend(['Cvol', 'PVol', 'MidVol', 'OTMVol', 'OTMWVol'])\n",
    "plt.show()"
   ]
  },
  {
   "cell_type": "code",
   "execution_count": 51,
   "id": "41b719a4",
   "metadata": {},
   "outputs": [],
   "source": [
    "#xdata=np.array(df[\"ln(K/S)\"])\n",
    "moneyness = df[\"ln(K/S)\"]\n",
    "t = moneyness\n",
    "#Choices for Y: Equally Weighted Mid:MidVol , OTM:OTMVol, WOTM:OTMWVol \n",
    "#Lets try Mid\n",
    "y = MidVol**2"
   ]
  },
  {
   "cell_type": "code",
   "execution_count": 52,
   "id": "d40917c4",
   "metadata": {},
   "outputs": [
    {
     "data": {
      "image/png": "[encoded data removed]",
      "text/plain": [
       "<Figure size 432x288 with 1 Axes>"
      ]
     },
     "metadata": {
      "needs_background": "light"
     },
     "output_type": "display_data"
    }
   ],
   "source": [
    "plt.plot(t, y) \n",
    "plt.show()"
   ]
  },
  {
   "cell_type": "code",
   "execution_count": 53,
   "id": "b5464344",
   "metadata": {},
   "outputs": [],
   "source": [
    "def model(t, coeffs):\n",
    "    return coeffs[0] + coeffs[1] * (coeffs[2]*(t-coeffs[3]) + np.sqrt((t-coeffs[3])**2 + (coeffs[4])**2 ))"
   ]
  },
  {
   "cell_type": "code",
   "execution_count": 54,
   "id": "944bb733",
   "metadata": {},
   "outputs": [],
   "source": [
    "x0 = np.array([0.5, 0.5, 0.5, 0.5, 0.5], dtype=float)"
   ]
  },
  {
   "cell_type": "code",
   "execution_count": 55,
   "id": "307c10ce",
   "metadata": {},
   "outputs": [],
   "source": [
    "def residuals(coeffs, y, t):\n",
    "    return y - model(t, coeffs)"
   ]
  },
  {
   "cell_type": "code",
   "execution_count": 56,
   "id": "b4eb0dbe",
   "metadata": {},
   "outputs": [],
   "source": [
    "from scipy.optimize import leastsq\n",
    "x, flag = leastsq(residuals, x0, args=(y, t))"
   ]
  },
  {
   "cell_type": "code",
   "execution_count": 57,
   "id": "6b729889",
   "metadata": {},
   "outputs": [
    {
     "name": "stdout",
     "output_type": "stream",
     "text": [
      "[-1.18848167  2.92769881 -0.4258364  -0.20311498  0.46727731]\n"
     ]
    }
   ],
   "source": [
    "print(x)"
   ]
  },
  {
   "cell_type": "code",
   "execution_count": 58,
   "id": "36e6d5f6",
   "metadata": {},
   "outputs": [
    {
     "data": {
      "image/png": "[encoded data removed]",
      "text/plain": [
       "<Figure size 576x432 with 1 Axes>"
      ]
     },
     "metadata": {
      "needs_background": "light"
     },
     "output_type": "display_data"
    }
   ],
   "source": [
    "fig, ax = plt.subplots(figsize=(8, 6))\n",
    "plt.plot(t, y, t, model(t, x))\n",
    "plt.xlabel('Moneyness')\n",
    "plt.ylabel('Imp Vol')\n",
    "plt.legend(['Data', 'Model Fit'])\n",
    "plt.show()"
   ]
  },
  {
   "cell_type": "code",
   "execution_count": 83,
   "id": "27ff3ea0",
   "metadata": {},
   "outputs": [
    {
     "data": {
      "text/plain": [
       "9.82068529434802e-06"
      ]
     },
     "execution_count": 83,
     "metadata": {},
     "output_type": "execute_result"
    }
   ],
   "source": [
    "MSE = np.square(np.subtract(y,model(t, x))).mean()\n",
    "MSE"
   ]
  },
  {
   "cell_type": "code",
   "execution_count": 87,
   "id": "740c7653",
   "metadata": {},
   "outputs": [
    {
     "data": {
      "text/plain": [
       "9.82068529434802e-06"
      ]
     },
     "execution_count": 87,
     "metadata": {},
     "output_type": "execute_result"
    }
   ],
   "source": [
    "from sklearn.metrics import mean_squared_error\n",
    "mean_squared_error(y,model(t, x))"
   ]
  },
  {
   "cell_type": "code",
   "execution_count": 85,
   "id": "89c122cd",
   "metadata": {},
   "outputs": [
    {
     "data": {
      "text/plain": [
       "0.0026194784135025323"
      ]
     },
     "execution_count": 85,
     "metadata": {},
     "output_type": "execute_result"
    }
   ],
   "source": [
    "MAD = np.abs(np.subtract(y,model(t, x))).mean()\n",
    "MAD"
   ]
  },
  {
   "cell_type": "code",
   "execution_count": 72,
   "id": "47383e65",
   "metadata": {},
   "outputs": [],
   "source": [
    "# Lets Fit this back to our model to price a ATM Option:\n",
    "def SVI(x, a, b,p,m,s):\n",
    "    return a+b*(p*(x-m)+sqrt((x-m)**2+s**2))"
   ]
  },
  {
   "cell_type": "code",
   "execution_count": 106,
   "id": "f270caa9",
   "metadata": {},
   "outputs": [
    {
     "data": {
      "text/plain": [
       "1.0441591277559947"
      ]
     },
     "execution_count": 106,
     "metadata": {},
     "output_type": "execute_result"
    }
   ],
   "source": [
    "#If prices are quoted in terms of Vol\n",
    "var = SVI(1, x[0], x[1], x[2], x[3], x[4])\n",
    "vol = np.sqrt(var)\n",
    "var\n",
    "vol"
   ]
  },
  {
   "cell_type": "code",
   "execution_count": 120,
   "id": "4a31b466",
   "metadata": {},
   "outputs": [],
   "source": [
    "def sviCurve (parameters, moneyness):\n",
    "    a = parameters[0]\n",
    "    b = parameters[1]\n",
    "    rho = parameters[2]\n",
    "    m = parameters[3]\n",
    "    sigma = parameters[4]\n",
    "    return [a+b*(rho*(k-m)+np.sqrt((k-m)**2 + sigma**2)) for k in moneyness]\n"
   ]
  },
  {
   "cell_type": "code",
   "execution_count": null,
   "id": "dff76053",
   "metadata": {},
   "outputs": [],
   "source": []
  },
  {
   "cell_type": "code",
   "execution_count": 103,
   "id": "f00be484",
   "metadata": {},
   "outputs": [],
   "source": [
    "def d1(S,K,T,r,sigma):\n",
    "    return(log(S/K)+(r+sigma**2/2.)*T)/(sigma*sqrt(T))\n",
    "def d2(S,K,T,r,sigma):\n",
    "    return d1(S,K,T,r,sigma)-sigma*sqrt(T)"
   ]
  },
  {
   "cell_type": "code",
   "execution_count": 104,
   "id": "05a8712c",
   "metadata": {},
   "outputs": [],
   "source": [
    "def bs_call(S,K,T,r,sigma):\n",
    "    return S*norm.cdf(d1(S,K,T,r,sigma))-K*exp(-r*T)*norm.cdf(d2(S,K,T,r,sigma))\n",
    "  \n",
    "def bs_put(S,K,T,r,sigma):\n",
    "    return K*exp(-r*T)-S+bs_call(S,K,T,r,sigma)"
   ]
  },
  {
   "cell_type": "code",
   "execution_count": 138,
   "id": "d59a15a3",
   "metadata": {},
   "outputs": [
    {
     "data": {
      "text/plain": [
       "86.89064944782263"
      ]
     },
     "execution_count": 138,
     "metadata": {},
     "output_type": "execute_result"
    }
   ],
   "source": [
    "#If prices are quoted in BS\n",
    "bs_call(S0,S0,0.863,r,0.05)"
   ]
  },
  {
   "cell_type": "code",
   "execution_count": 90,
   "id": "a9c38834",
   "metadata": {},
   "outputs": [],
   "source": []
  },
  {
   "cell_type": "code",
   "execution_count": 63,
   "id": "408df89a",
   "metadata": {},
   "outputs": [],
   "source": [
    "def sviCurve (parameters, moneyness):\n",
    "    a = parameters[0]\n",
    "    b = parameters[1]\n",
    "    rho = parameters[2]\n",
    "    m = parameters[3]\n",
    "    sigma = parameters[4]\n",
    "    return [a+b*(rho*(k-m)+np.sqrt((k-m)**2 + sigma**2)) for k in moneyness]\n",
    "\n",
    "moneyness =np.array(df[\"ln(K/S)\"])"
   ]
  },
  {
   "cell_type": "code",
   "execution_count": 22,
   "id": "33d79ead",
   "metadata": {},
   "outputs": [
    {
     "data": {
      "image/png": "[encoded data removed]",
      "text/plain": [
       "<Figure size 432x288 with 1 Axes>"
      ]
     },
     "metadata": {
      "needs_background": "light"
     },
     "output_type": "display_data"
    },
    {
     "data": {
      "image/png": "[encoded data removed]",
      "text/plain": [
       "<Figure size 432x288 with 1 Axes>"
      ]
     },
     "metadata": {
      "needs_background": "light"
     },
     "output_type": "display_data"
    },
    {
     "data": {
      "image/png": "[encoded data removed]",
      "text/plain": [
       "<Figure size 432x288 with 1 Axes>"
      ]
     },
     "metadata": {
      "needs_background": "light"
     },
     "output_type": "display_data"
    },
    {
     "data": {
      "image/png": "[encoded data removed]",
      "text/plain": [
       "<Figure size 432x288 with 1 Axes>"
      ]
     },
     "metadata": {
      "needs_background": "light"
     },
     "output_type": "display_data"
    },
    {
     "data": {
      "image/png": "[encoded data removed]",
      "text/plain": [
       "<Figure size 432x288 with 1 Axes>"
      ]
     },
     "metadata": {
      "needs_background": "light"
     },
     "output_type": "display_data"
    }
   ],
   "source": []
  },
  {
   "cell_type": "code",
   "execution_count": 23,
   "id": "b95fa94b",
   "metadata": {},
   "outputs": [],
   "source": []
  },
  {
   "cell_type": "code",
   "execution_count": 24,
   "id": "9e519184",
   "metadata": {},
   "outputs": [],
   "source": []
  },
  {
   "cell_type": "code",
   "execution_count": 25,
   "id": "0eac6b7e",
   "metadata": {},
   "outputs": [],
   "source": [
    "xdata = moneyness\n",
    "parameters = [-0.04, 0.15, 0.5, 0.3, 0.3]\n",
    "\n",
    "y = sviCurve(parameters,xdata)\n",
    "ydata = y\n",
    "plt.plot(xdata, ydata, 'b-', label='data')"
   ]
  },
  {
   "cell_type": "code",
   "execution_count": 146,
   "id": "8e1f17cf",
   "metadata": {},
   "outputs": [
    {
     "data": {
      "text/plain": [
       "5.199999999999989"
      ]
     },
     "execution_count": 146,
     "metadata": {},
     "output_type": "execute_result"
    }
   ],
   "source": [
    "#VIX Paper\n",
    "min(abs(df[\"CMid\"]-df[\"PMid\"]))"
   ]
  },
  {
   "cell_type": "code",
   "execution_count": null,
   "id": "77deadf7",
   "metadata": {},
   "outputs": [],
   "source": [
    "#Pricing Variance Swap as per GS paper\n",
    "#1. Define your OTM option set such that \n",
    "#2. Use SVI to get their imp vol\n",
    "#3. Determine their Weight\n",
    "#4. Value per option\n",
    "#5. contribution\n",
    "\n"
   ]
  },
  {
   "cell_type": "code",
   "execution_count": null,
   "id": "64e4263a",
   "metadata": {},
   "outputs": [],
   "source": [
    "def sviCurve (parameters, moneyness):\n",
    "    a = parameters[0]\n",
    "    b = parameters[1]\n",
    "    rho = parameters[2]\n",
    "    m = parameters[3]\n",
    "    sigma = parameters[4]\n",
    "    return [a+b*(rho*(k-m)+np.sqrt((k-m)**2 + sigma**2)) for k in moneyness]"
   ]
  },
  {
   "cell_type": "code",
   "execution_count": 118,
   "id": "48b16919",
   "metadata": {},
   "outputs": [],
   "source": [
    "Pstrikes = K[:39]\n",
    "Cstrikes = K[40:]\n",
    "Striks = pd.concat([K[:39],K[40:]])\n",
    "M = np.log(Striks/S0)\n",
    "vols = sviCurve (x, M)\n",
    "PutP = df[\"PMid\"][:39]\n",
    "CallP = df[\"CMid\"][40:]\n",
    "dP = \n",
    "\n",
    "#df[\"PMid\"] = df[['PBid', 'PAsk']].mean(axis=1)\n",
    "#df[\"CMid\"] = df[['CBid', 'CAsk']].mean(axis=1)\n",
    "#df[\"F\"] = df[\"CMid\"]-df[\"PMid\"]+df[\"Strike\"]"
   ]
  },
  {
   "cell_type": "code",
   "execution_count": 119,
   "id": "735272e3",
   "metadata": {},
   "outputs": [
    {
     "data": {
      "text/plain": [
       "0.04933205707812505"
      ]
     },
     "execution_count": 119,
     "metadata": {},
     "output_type": "execute_result"
    }
   ],
   "source": [
    "vols[39]"
   ]
  },
  {
   "cell_type": "code",
   "execution_count": null,
   "id": "f1ae250d",
   "metadata": {},
   "outputs": [],
   "source": [
    "\n"
   ]
  },
  {
   "cell_type": "code",
   "execution_count": null,
   "id": "0abdabf3",
   "metadata": {},
   "outputs": [],
   "source": []
  },
  {
   "cell_type": "code",
   "execution_count": null,
   "id": "218b71ca",
   "metadata": {},
   "outputs": [],
   "source": []
  },
  {
   "cell_type": "code",
   "execution_count": null,
   "id": "5eeffd7f",
   "metadata": {},
   "outputs": [],
   "source": []
  },
  {
   "cell_type": "code",
   "execution_count": null,
   "id": "ea79f1c1",
   "metadata": {},
   "outputs": [],
   "source": []
  },
  {
   "cell_type": "code",
   "execution_count": null,
   "id": "6447c30e",
   "metadata": {},
   "outputs": [],
   "source": [
    "\n"
   ]
  },
  {
   "cell_type": "code",
   "execution_count": null,
   "id": "111771ae",
   "metadata": {},
   "outputs": [],
   "source": []
  },
  {
   "cell_type": "code",
   "execution_count": null,
   "id": "57c9bba8",
   "metadata": {},
   "outputs": [],
   "source": []
  }
 ],
 "metadata": {
  "kernelspec": {
   "display_name": "Python 3 (ipykernel)",
   "language": "python",
   "name": "python3"
  },
  "language_info": {
   "codemirror_mode": {
    "name": "ipython",
    "version": 3
   },
   "file_extension": ".py",
   "mimetype": "text/x-python",
   "name": "python",
   "nbconvert_exporter": "python",
   "pygments_lexer": "ipython3",
   "version": "3.7.4"
  }
 },
 "nbformat": 4,
 "nbformat_minor": 5
}
